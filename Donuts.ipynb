{
 "cells": [
  {
   "cell_type": "markdown",
   "metadata": {},
   "source": [
    "# Scrape Donuts Store Information"
   ]
  },
  {
   "cell_type": "markdown",
   "metadata": {},
   "source": [
    "### We will scrape donuts store information within New York Area\n",
    "### Our url is : 'https://www.yelp.com/search?find_desc=donuts&find_loc=New%20York%2C%20NY&ns=1&cflt=donuts'"
   ]
  },
  {
   "cell_type": "code",
   "execution_count": 2,
   "metadata": {},
   "outputs": [],
   "source": [
    "from bs4 import BeautifulSoup\n",
    "import pandas as pd\n",
    "import time\n",
    "from urllib.request import urlopen\n",
    "from selenium import webdriver"
   ]
  },
  {
   "cell_type": "code",
   "execution_count": 10,
   "metadata": {},
   "outputs": [],
   "source": [
    "original_url = 'https://www.yelp.com/search?find_desc=donuts&find_loc=New%20York%2C%20NY&cflt=donuts'\n",
    "file_path = 'C:/Users/yukun/Desktop/DonutsStores/NYDonuts_page.html'\n",
    "for i in range(0,1):#since we have tried before, the last page that we are able to generate is page#34\n",
    "    path = file_path + str(i+1) + '.html'\n",
    "    url = original_url + '&start=' + str(i*30)\n",
    "    driver = webdriver.Chrome()\n",
    "    driver.get(url)\n",
    "    time.sleep(5)\n",
    "    source = driver.page_source\n",
    "    soup = BeautifulSoup(source, 'html.parser')\n",
    "    file = open(path, mode = 'w', encoding = 'utf-8')\n",
    "    file.write(soup.prettify())\n",
    "    file.close()\n",
    "    driver.close()"
   ]
  },
  {
   "cell_type": "code",
   "execution_count": 13,
   "metadata": {},
   "outputs": [],
   "source": [
    "#We could pull out the page source from local drive\n",
    "html_path = 'C:/Users/yukun/Desktop/DonutsStores/NYDonuts_page.html'\n",
    "data = []\n",
    "for i in range(1,34):\n",
    "    path = html_path + str(i) + '.html'\n",
    "    file = open(path, mode = 'r', encoding = 'utf-8')\n",
    "    soup = BeautifulSoup(file, 'html.parser')\n",
    "    stores = soup.find_all('li',{'class':'lemon--li__373c0__1r9wz border-color--default__373c0__2oFDT'})\n",
    "    for store in stores:\n",
    "    #Firstly find out the store names and store href by following\n",
    "        store_name_tag = store.find('a','lemon--a__373c0__IEZFH link__373c0__29943 link-color--blue-dark__373c0__1mhJo link-size--inherit__373c0__2JXk5')\n",
    "        if store_name_tag is not None:\n",
    "            store_href = store_name_tag['href']\n",
    "            #Remove the advertisement information\n",
    "            if not store_href.startswith('/adredir'):\n",
    "                store_name = store_name_tag.get_text()\n",
    "                store_href1 = store_href\n",
    "                #Find the store rating\n",
    "                store_rating_tag1 = store.find('span','lemon--span__373c0__3997G display--inline__373c0__1DbOG border-color--default__373c0__2oFDT')\n",
    "                if store_rating_tag1 is not None:\n",
    "                    store_rating_tag = store_rating_tag1.find('div')\n",
    "                    if store_rating_tag is not None:\n",
    "                        store_rating = store_rating_tag['aria-label'].replace('star rating','')\n",
    "                #Find total reviews\n",
    "                store_total_reviews_tag = store.find('div','lemon--div__373c0__1mboc attribute__373c0__1hPI_ display--inline-block__373c0__2de_K border-color--default__373c0__2oFDT')\n",
    "                if store_total_reviews_tag is not None:\n",
    "                    store_reviews = store_total_reviews_tag.get_text().replace('reviews','')\n",
    "                #Find store phone number\n",
    "                phone_number_tag1 = store.find('div','lemon--div__373c0__1mboc container__373c0__19wDx u-padding-l2 border-color--default__373c0__2oFDT text-align--right__373c0__3fmmn')\n",
    "                if phone_number_tag1 is not None:\n",
    "                    phone_number_tag2 = phone_number_tag1.find('p','lemon--p__373c0__3Qnnj text__373c0__2pB8f text-color--normal__373c0__K_MKN text-align--right__373c0__3ARv7')\n",
    "                    if phone_number_tag2 is not None:\n",
    "                        phone_number = phone_number_tag2.get_text()\n",
    "                #Find the location\n",
    "                store_location_tag1 = store.find('div','lemon--div__373c0__1mboc container__373c0__19wDx u-padding-l2 border-color--default__373c0__2oFDT text-align--right__373c0__3fmmn')\n",
    "                if store_location_tag1 is not None:\n",
    "                    store_location_tag2 = store_location_tag1.find('span','lemon--span__373c0__3997G')\n",
    "                    if store_location_tag2 is not None:\n",
    "                        store_location = store_location_tag2.get_text()\n",
    "                #Find the neighbor\n",
    "                store_neighbor_tag1 = store.find('div','lemon--div__373c0__1mboc u-space-b1 border-color--default__373c0__2oFDT')\n",
    "                if store_neighbor_tag1 is not None:\n",
    "                    store_neighbor_tag2 = store_neighbor_tag1.find('p','lemon--p__373c0__3Qnnj text__373c0__2pB8f text-color--normal__373c0__K_MKN text-align--right__373c0__3ARv7')\n",
    "                    if store_neighbor_tag2 is not None:\n",
    "                        store_neighbor = store_neighbor_tag2.get_text()\n",
    "                data.append([store_name, store_href1, store_rating, store_reviews, phone_number, store_location, store_neighbor])"
   ]
  },
  {
   "cell_type": "code",
   "execution_count": 25,
   "metadata": {},
   "outputs": [],
   "source": [
    "for i in range(0,len(data)):\n",
    "    for x in range(0,7):\n",
    "        data[i][x] = data[i][x].strip()"
   ]
  },
  {
   "cell_type": "code",
   "execution_count": 28,
   "metadata": {},
   "outputs": [],
   "source": [
    "with open('C:/Users/yukun/Desktop/DonutsStores/Donuts_store_info.csv', mode = 'w', encoding = 'utf-8') as file:\n",
    "    file.write('store_name'+','+'store_link'+','+'store_rating'+','+'number_of_reviews'+','+'store_phone#'+','+'store_address'+','+'store_neighbor'+'\\n')\n",
    "    for k in data:\n",
    "        file.write(k[0]+','+k[1]+','+k[2]+','+k[3]+','+k[4]+','+k[5]+','+k[6]+'\\n')"
   ]
  },
  {
   "cell_type": "markdown",
   "metadata": {},
   "source": [
    "## Preprocess Data"
   ]
  },
  {
   "cell_type": "code",
   "execution_count": 36,
   "metadata": {},
   "outputs": [],
   "source": [
    "df = pd.read_csv('C:/Users/yukun/Desktop/DonutsStores/Donuts_store_info.csv')\n",
    "df = df.dropna()\n",
    "df['number_of_reviews'] = df['number_of_reviews'].str.replace('review','')\n",
    "df['number_of_reviews'] = df['number_of_reviews'].astype(int)\n",
    "df.to_csv('C:/Users/yukun/Desktop/DonutsStores/Donuts_store_info2.csv')"
   ]
  },
  {
   "cell_type": "code",
   "execution_count": null,
   "metadata": {},
   "outputs": [],
   "source": []
  }
 ],
 "metadata": {
  "kernelspec": {
   "display_name": "Python 3",
   "language": "python",
   "name": "python3"
  },
  "language_info": {
   "codemirror_mode": {
    "name": "ipython",
    "version": 3
   },
   "file_extension": ".py",
   "mimetype": "text/x-python",
   "name": "python",
   "nbconvert_exporter": "python",
   "pygments_lexer": "ipython3",
   "version": "3.7.4"
  }
 },
 "nbformat": 4,
 "nbformat_minor": 2
}
